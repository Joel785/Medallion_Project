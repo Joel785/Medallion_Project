{
 "cells": [
  {
   "cell_type": "code",
   "execution_count": 1,
   "id": "c83515da",
   "metadata": {},
   "outputs": [],
   "source": [
    "# If needed (only once per environment):\n",
    "# %pip install pandas sqlalchemy python-dotenv matplotlib seaborn\n",
    "\n",
    "import os\n",
    "from pathlib import Path\n",
    "from datetime import datetime, timedelta, timezone\n",
    "\n",
    "import numpy as np\n",
    "import pandas as pd\n",
    "from sqlalchemy import create_engine, text\n",
    "from dotenv import load_dotenv\n",
    "\n",
    "import matplotlib.pyplot as plt\n",
    "import seaborn as sns\n",
    "\n",
    "# Notebook display tweaks\n",
    "plt.rcParams[\"figure.figsize\"] = (9, 5)\n",
    "sns.set_theme()\n",
    "\n",
    "# Load env (expects DB_URL in your .env at project root)\n",
    "load_dotenv(\"../.env\")  # adjust path if your .env is at project root\n",
    "\n",
    "DB_URL = os.getenv(\"DB_URL\")\n",
    "assert DB_URL, \"DB_URL not set. Make sure .env is configured.\"\n",
    "\n",
    "engine = create_engine(DB_URL)\n",
    "\n",
    "# Output folders\n",
    "BASE_REPORT_DIR = Path(\"../reports\") \n",
    "PLOTS_DIR = BASE_REPORT_DIR / \"plots\"\n",
    "PLOTS_DIR.mkdir(parents=True, exist_ok=True)\n",
    "\n",
    "RUN_TS = datetime.now(timezone.utc).strftime(\"%Y-%m-%dT%H-%M-%SZ\")\n",
    "\n",
    "def savefig(name: str):\n",
    "    out = PLOTS_DIR / f\"{RUN_TS}_{name}.png\"\n",
    "    plt.tight_layout()\n",
    "    plt.savefig(out, dpi=150, bbox_inches=\"tight\")\n",
    "    print(f\"[saved plot] {out}\")\n",
    "    plt.close()\n",
    "\n"
   ]
  },
  {
   "cell_type": "code",
   "execution_count": 2,
   "id": "2ec77578",
   "metadata": {},
   "outputs": [],
   "source": [
    "with engine.connect() as conn:\n",
    "    patients       = pd.read_sql(text('SELECT * FROM silver.\"patients\"'), conn)\n",
    "    prescriptions  = pd.read_sql(text('SELECT * FROM silver.\"prescriptions\"'), conn)\n",
    "    billing        = pd.read_sql(text('SELECT * FROM silver.\"billing\"'), conn)\n",
    "    appointments   = pd.read_sql(text('SELECT * FROM silver.\"appointments\"'), conn)\n",
    "    doctors        = pd.read_sql(text('SELECT * FROM silver.\"doctors\"'), conn)\n"
   ]
  },
  {
   "cell_type": "code",
   "execution_count": 5,
   "id": "23364e57",
   "metadata": {},
   "outputs": [
    {
     "name": "stdout",
     "output_type": "stream",
     "text": [
      "[saved plot] ../reports/plots/2025-08-27T09-02-43Z_boxplot_appointments_per_doctor.png\n"
     ]
    }
   ],
   "source": [
    "if \"doctor_id\" in appointments.columns:\n",
    "    appt_counts = (\n",
    "        appointments.groupby(\"doctor_id\", dropna=False)\n",
    "        .size()\n",
    "        .reset_index(name=\"appointments_per_doctor\")\n",
    "    )   \n",
    "\n",
    "    plt.figure(figsize=(6, 7))\n",
    "    sns.boxplot(y=appt_counts[\"appointments_per_doctor\"])\n",
    "    plt.title(\"Appointments per Doctor (Boxplot)\")\n",
    "    plt.ylabel(\"Appointments per Doctor\")\n",
    "    savefig(\"boxplot_appointments_per_doctor\")\n",
    "else:\n",
    "    print(\"[warn] 'doctor_id' not in silver.appointments\")\n"
   ]
  },
  {
   "cell_type": "code",
   "execution_count": 7,
   "id": "6e567b16",
   "metadata": {},
   "outputs": [
    {
     "name": "stdout",
     "output_type": "stream",
     "text": [
      "[saved plot] ../reports/plots/2025-08-27T09-02-43Z_hist_billing_amounts_with_outlier.png\n"
     ]
    }
   ],
   "source": [
    "amount_col = next((c for c in [\"amount\",\"billing_amount\",\"total_amount\"] if c in billing.columns), None)\n",
    "\n",
    "if amount_col:\n",
    "    amounts = pd.to_numeric(billing[amount_col], errors=\"coerce\").dropna()\n",
    "\n",
    "    Q1, Q3 = amounts.quantile(0.25), amounts.quantile(0.75)\n",
    "    IQR = Q3 - Q1\n",
    "    upper = Q3 + 1.5 * IQR\n",
    "\n",
    "    plt.figure()\n",
    "    plt.hist(amounts, bins=40)\n",
    "    plt.axvline(upper, linestyle=\"--\")\n",
    "    plt.title(f\"Billing Amounts (hist) + Upper Outlier Threshold\\nQ1={Q1:.2f}, Q3={Q3:.2f}, IQR={IQR:.2f}, Upper={upper:.2f}\")\n",
    "    plt.xlabel(\"Amount\")\n",
    "    plt.ylabel(\"Count\")\n",
    "    savefig(\"hist_billing_amounts_with_outlier\")\n",
    "\n",
    "    outlier_count = int((amounts > upper).sum())\n",
    "    summary = pd.DataFrame({\n",
    "        \"Q1\":[Q1], \"Q3\":[Q3], \"IQR\":[IQR], \"Upper_Threshold\":[upper],\n",
    "        \"Total_Obs\":[len(amounts)], \"Outlier_Count\":[outlier_count]\n",
    "    })\n",
    "\n",
    "else:\n",
    "    print(\"[warn] amount column not found (looked for amount/billing_amount/total_amount)\")\n"
   ]
  },
  {
   "cell_type": "code",
   "execution_count": 8,
   "id": "dd6b0ee0",
   "metadata": {},
   "outputs": [
    {
     "name": "stdout",
     "output_type": "stream",
     "text": [
      "[saved plot] ../reports/plots/2025-08-27T09-02-43Z_line_daily_appointments_last_6m.png\n"
     ]
    }
   ],
   "source": [
    "# pick date column name\n",
    "date_col = next((c for c in [\"appointment_date\",\"date\",\"scheduled_date\"] if c in appointments.columns), None)\n",
    "\n",
    "if date_col:\n",
    "    appt = appointments[[date_col]].copy()\n",
    "    appt[date_col] = pd.to_datetime(appt[date_col], errors=\"coerce\")\n",
    "    appt = appt.dropna(subset=[date_col])\n",
    "\n",
    "    end_date = appt[date_col].max().normalize()\n",
    "    start_date = end_date - pd.offsets.MonthBegin(6)  # ~ last 6 months\n",
    "    mask = (appt[date_col] >= start_date) & (appt[date_col] <= end_date)\n",
    "    appt6 = appt.loc[mask].copy()\n",
    "\n",
    "    daily = appt6.groupby(appt6[date_col].dt.date).size().reset_index(name=\"appointments\")\n",
    "\n",
    "\n",
    "    plt.figure()\n",
    "    plt.plot(daily[date_col], daily[\"appointments\"])\n",
    "    plt.title(f\"Daily Appointments (Last 6 Months)\\n{start_date.date()} → {end_date.date()}\")\n",
    "    plt.xlabel(\"Date\")\n",
    "    plt.ylabel(\"Appointments\")\n",
    "    plt.xticks(rotation=45)\n",
    "    savefig(\"line_daily_appointments_last_6m\")\n",
    "else:\n",
    "    print(\"[warn] no appointment date column found (tried appointment_date/date/scheduled_date)\")\n"
   ]
  },
  {
   "cell_type": "code",
   "execution_count": 10,
   "id": "7abc781e",
   "metadata": {},
   "outputs": [
    {
     "name": "stdout",
     "output_type": "stream",
     "text": [
      "[saved plot] ../reports/plots/2025-08-27T09-02-43Z_bar_appointment_status_distribution.png\n"
     ]
    }
   ],
   "source": [
    "# Appointment Status Distribution (reuse appointments df)\n",
    "plt.figure(figsize=(6,4))\n",
    "appointments[\"status\"].value_counts().plot(kind=\"bar\")\n",
    "\n",
    "plt.title(\"Appointment Status Distribution\")\n",
    "plt.ylabel(\"Count\")\n",
    "\n",
    "# save instead of show\n",
    "savefig(\"bar_appointment_status_distribution\")\n"
   ]
  },
  {
   "cell_type": "code",
   "execution_count": 12,
   "id": "9c46eef0",
   "metadata": {},
   "outputs": [
    {
     "name": "stdout",
     "output_type": "stream",
     "text": [
      "[saved plot] ../reports/plots/2025-08-27T09-02-43Z_hist_medicines_per_prescription.png\n"
     ]
    }
   ],
   "source": [
    "# Medicines per Prescription (reuse prescriptions df)\n",
    "presc_counts = prescriptions.groupby(\"prescription_id\")[\"medicine\"].count().reset_index(name=\"med_count\")\n",
    "\n",
    "plt.figure(figsize=(7,5))\n",
    "presc_counts[\"med_count\"].hist(bins=10)\n",
    "plt.title(\"Medicines per Prescription\")\n",
    "plt.xlabel(\"Number of Medicines\")\n",
    "plt.ylabel(\"Count of Prescriptions\")\n",
    "\n",
    "# save instead of show\n",
    "savefig(\"hist_medicines_per_prescription\")\n"
   ]
  },
  {
   "cell_type": "code",
   "execution_count": 13,
   "id": "96f26419",
   "metadata": {},
   "outputs": [
    {
     "name": "stdout",
     "output_type": "stream",
     "text": [
      "[saved plot] ../reports/plots/2025-08-27T09-02-43Z_boxplot_billing_amount_outliers.png\n"
     ]
    }
   ],
   "source": [
    "# Billing Amount Outliers (reuse billing df)\n",
    "plt.figure(figsize=(5,7))\n",
    "billing[\"amount\"].dropna().plot(kind=\"box\")\n",
    "\n",
    "plt.title(\"Billing Amount Outliers\")\n",
    "plt.ylabel(\"Amount\")\n",
    "\n",
    "# save instead of show\n",
    "savefig(\"boxplot_billing_amount_outliers\")\n"
   ]
  },
  {
   "cell_type": "code",
   "execution_count": 15,
   "id": "1af799c2",
   "metadata": {},
   "outputs": [
    {
     "name": "stdout",
     "output_type": "stream",
     "text": [
      "[saved plot] ../reports/plots/2025-08-27T09-02-43Z_bar_patient_gender_distribution.png\n"
     ]
    }
   ],
   "source": [
    "if \"gender\" in patients.columns:\n",
    "    plt.figure(figsize=(6,4))\n",
    "    patients[\"gender\"].value_counts().plot(kind=\"bar\", color=[\"skyblue\",\"lightcoral\",\"lightgreen\"])\n",
    "    plt.title(\"Patient Gender Distribution\")\n",
    "    plt.xlabel(\"Gender\")\n",
    "    plt.ylabel(\"Count\")\n",
    "    savefig(\"bar_patient_gender_distribution\")\n"
   ]
  },
  {
   "cell_type": "code",
   "execution_count": 16,
   "id": "2412dbd8",
   "metadata": {},
   "outputs": [
    {
     "name": "stdout",
     "output_type": "stream",
     "text": [
      "[saved plot] ../reports/plots/2025-08-27T09-02-43Z_bar_appointments_by_weekday.png\n"
     ]
    }
   ],
   "source": [
    "if \"appointment_date\" in appointments.columns:\n",
    "    appt = appointments.copy()\n",
    "    appt[\"appointment_date\"] = pd.to_datetime(appt[\"appointment_date\"], errors=\"coerce\")\n",
    "    appt = appt.dropna(subset=[\"appointment_date\"])\n",
    "    appt[\"weekday\"] = appt[\"appointment_date\"].dt.day_name()\n",
    "\n",
    "    plt.figure(figsize=(8,5))\n",
    "    appt[\"weekday\"].value_counts().reindex(\n",
    "        [\"Monday\",\"Tuesday\",\"Wednesday\",\"Thursday\",\"Friday\",\"Saturday\",\"Sunday\"]\n",
    "    ).plot(kind=\"bar\")\n",
    "    plt.title(\"Appointments by Weekday\")\n",
    "    plt.xlabel(\"Day of Week\")\n",
    "    plt.ylabel(\"Appointments\")\n",
    "    savefig(\"bar_appointments_by_weekday\")\n"
   ]
  },
  {
   "cell_type": "code",
   "execution_count": 17,
   "id": "df62581d",
   "metadata": {},
   "outputs": [
    {
     "name": "stdout",
     "output_type": "stream",
     "text": [
      "[saved plot] ../reports/plots/2025-08-27T09-02-43Z_barh_billing_by_payment_method.png\n"
     ]
    }
   ],
   "source": [
    "if \"payment_method\" in billing.columns:\n",
    "    plt.figure(figsize=(7,5))\n",
    "    billing.groupby(\"payment_method\")[\"amount\"].sum().sort_values().plot(kind=\"barh\")\n",
    "    plt.title(\"Total Billing Amount by Payment Method\")\n",
    "    plt.xlabel(\"Total Amount\")\n",
    "    plt.ylabel(\"Payment Method\")\n",
    "    savefig(\"barh_billing_by_payment_method\")\n"
   ]
  },
  {
   "cell_type": "code",
   "execution_count": null,
   "id": "1dfece90",
   "metadata": {},
   "outputs": [],
   "source": []
  }
 ],
 "metadata": {
  "kernelspec": {
   "display_name": "venv",
   "language": "python",
   "name": "python3"
  },
  "language_info": {
   "codemirror_mode": {
    "name": "ipython",
    "version": 3
   },
   "file_extension": ".py",
   "mimetype": "text/x-python",
   "name": "python",
   "nbconvert_exporter": "python",
   "pygments_lexer": "ipython3",
   "version": "3.10.12"
  }
 },
 "nbformat": 4,
 "nbformat_minor": 5
}
